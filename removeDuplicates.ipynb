{
 "cells": [
  {
   "cell_type": "code",
   "execution_count": 36,
   "metadata": {},
   "outputs": [],
   "source": [
    "def removeDuplicates(nums):\n",
    "    repeat = []\n",
    "    for i in range(len(nums)-1):\n",
    "        val = nums[i]\n",
    "        if (nums.count(val)) > 1:\n",
    "            if val not in repeat:\n",
    "                repeat.append(val)\n",
    "    for j in range(len(repeat)):\n",
    "        dnum = repeat[j]\n",
    "        while (nums.count(dnum)) > 1:\n",
    "            nums.remove(dnum)\n",
    "    return len(nums)\n",
    "        "
   ]
  },
  {
   "cell_type": "code",
   "execution_count": 37,
   "metadata": {},
   "outputs": [],
   "source": [
    "list = [1,2,3,4,4,5,5,6,6,6,7,7,7,7,8,9,9,9]\n"
   ]
  },
  {
   "cell_type": "code",
   "execution_count": 38,
   "metadata": {},
   "outputs": [
    {
     "data": {
      "text/plain": [
       "9"
      ]
     },
     "execution_count": 38,
     "metadata": {},
     "output_type": "execute_result"
    }
   ],
   "source": [
    "removeDuplicates(list)"
   ]
  },
  {
   "cell_type": "code",
   "execution_count": null,
   "metadata": {},
   "outputs": [],
   "source": [
    "# 给定一个排序数组，你需要在原地删除重复出现的元素，使得每个元素只出现一次，返回移除后数组的新长度。\n",
    "# 不要使用额外的数组空间，你必须在原地修改输入数组并在使用 O(1) 额外空间的条件下完成。\n",
    "# 示例 1:\n",
    "# 给定数组 nums = [1,1,2], \n",
    "\n",
    "# 函数应该返回新的长度 2, 并且原数组 nums 的前两个元素被修改为 1, 2。 \n",
    "\n",
    "# 你不需要考虑数组中超出新长度后面的元素。\n",
    "# 示例 2:\n",
    "# 给定 nums = [0,0,1,1,1,2,2,3,3,4],\n",
    "\n",
    "# 函数应该返回新的长度 5, 并且原数组 nums 的前五个元素被修改为 0, 1, 2, 3, 4。\n",
    "\n",
    "# 你不需要考虑数组中超出新长度后面的元素。"
   ]
  }
 ],
 "metadata": {
  "kernelspec": {
   "display_name": "Python 3",
   "language": "python",
   "name": "python3"
  }
 },
 "nbformat": 4,
 "nbformat_minor": 2
}
