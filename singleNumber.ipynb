{
 "cells": [
  {
   "cell_type": "code",
   "execution_count": 7,
   "metadata": {},
   "outputs": [],
   "source": [
    "# def singleNumber(nums):\n",
    "#     l = len(nums)\n",
    "#     s = set(nums)\n",
    "#     newl = list(s)\n",
    "#     sl = len(newl)\n",
    "#     for i in range(sl):\n",
    "#         now = newl[i]\n",
    "#         count = nums.count(now)\n",
    "#         if count < 2:\n",
    "#             return now\n",
    "# 输入长列表，报错时间超出"
   ]
  },
  {
   "cell_type": "code",
   "execution_count": 15,
   "metadata": {},
   "outputs": [],
   "source": [
    "def singleNumber(nums):\n",
    "    value = 0\n",
    "    l = len(nums)\n",
    "    for i in range(l):\n",
    "        value = value ^ nums[i]\n",
    "    return value"
   ]
  },
  {
   "cell_type": "code",
   "execution_count": 19,
   "metadata": {},
   "outputs": [],
   "source": [
    "def single(nums):\n",
    "    nums.sort()\n",
    "    for i in range(len(nums)):\n",
    "        if len(nums) == 1:\n",
    "            return nums[0]\n",
    "        if nums[0] == nums[1]:\n",
    "            del nums[0]\n",
    "            del nums[0]\n",
    "        else:\n",
    "            return nums[0]"
   ]
  },
  {
   "cell_type": "code",
   "execution_count": 21,
   "metadata": {},
   "outputs": [
    {
     "data": {
      "text/plain": [
       "5"
      ]
     },
     "execution_count": 21,
     "metadata": {},
     "output_type": "execute_result"
    }
   ],
   "source": [
    "list1 = [2,2,4,4,5]\n",
    "single(list1)"
   ]
  },
  {
   "cell_type": "code",
   "execution_count": 23,
   "metadata": {},
   "outputs": [],
   "source": [
    "# 只出现一次的数字\n",
    "# 给定一个非空整数数组，除了某个元素只出现一次以外，其余每个元素均出现两次。找出那个只出现了一次的元素。"
   ]
  },
  {
   "cell_type": "code",
   "execution_count": null,
   "metadata": {},
   "outputs": [],
   "source": [
    "# "
   ]
  }
 ],
 "metadata": {
  "kernelspec": {
   "display_name": "Python 3",
   "language": "python",
   "name": "python3"
  },
  "language_info": {
   "codemirror_mode": {
    "name": "ipython",
    "version": 3
   },
   "file_extension": ".py",
   "mimetype": "text/x-python",
   "name": "python",
   "nbconvert_exporter": "python",
   "pygments_lexer": "ipython3",
   "version": "3.7.0"
  }
 },
 "nbformat": 4,
 "nbformat_minor": 2
}
