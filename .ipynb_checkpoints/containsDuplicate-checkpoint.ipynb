{
 "cells": [
  {
   "cell_type": "code",
   "execution_count": 70,
   "metadata": {},
   "outputs": [],
   "source": [
    "# def containsDuplicate(nums):\n",
    "#     l = len(nums)\n",
    "#     nums = nums.sort()\n",
    "#     if l < 2:\n",
    "#         return False\n",
    "#     else:\n",
    "#         for i in range(l):\n",
    "#             now = nums[i]\n",
    "#             count = nums.count(now)\n",
    "#             if count > 1:\n",
    "#                 return True\n",
    "#         return False\n",
    "# 失败原因：如果输入是很长且不重复的列表，报错时间过长        "
   ]
  },
  {
   "cell_type": "code",
   "execution_count": 86,
   "metadata": {},
   "outputs": [
    {
     "data": {
      "text/plain": [
       "True"
      ]
     },
     "execution_count": 86,
     "metadata": {},
     "output_type": "execute_result"
    }
   ],
   "source": [
    "list = [1,2,3,4,5,6,6]\n",
    "containsDuplicate(list)"
   ]
  },
  {
   "cell_type": "code",
   "execution_count": 82,
   "metadata": {},
   "outputs": [],
   "source": [
    "def containsDuplicate(nums):\n",
    "    l = len(nums)\n",
    "    s = set(nums)\n",
    "    sl = len(s)\n",
    "    if sl == l:return False\n",
    "    else: return True"
   ]
  },
  {
   "cell_type": "code",
   "execution_count": null,
   "metadata": {},
   "outputs": [],
   "source": [
    "# 给定一个整数数组，判断是否存在重复元素。\n",
    "\n",
    "# 如果任何值在数组中出现至少两次，函数返回 true。如果数组中每个元素都不相同，则返回 false。\n",
    "\n",
    "# 示例 1:\n",
    "\n",
    "# 输入: [1,2,3,1]\n",
    "# 输出: true\n",
    "# 示例 2:\n",
    "\n",
    "# 输入: [1,2,3,4]\n",
    "# 输出: false"
   ]
  }
 ],
 "metadata": {
  "kernelspec": {
   "display_name": "Python 3",
   "language": "python",
   "name": "python3"
  },
  "language_info": {
   "codemirror_mode": {
    "name": "ipython",
    "version": 3
   },
   "file_extension": ".py",
   "mimetype": "text/x-python",
   "name": "python",
   "nbconvert_exporter": "python",
   "pygments_lexer": "ipython3",
   "version": "3.7.0"
  }
 },
 "nbformat": 4,
 "nbformat_minor": 2
}
