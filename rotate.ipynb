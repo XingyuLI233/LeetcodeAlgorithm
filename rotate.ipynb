{
 "cells": [
  {
   "cell_type": "code",
   "execution_count": 1,
   "metadata": {},
   "outputs": [],
   "source": [
    "def rotate(nums, k):\n",
    "    l = len(nums)\n",
    "    if l < 2:\n",
    "        return\n",
    "    else:\n",
    "        copy = nums.copy()\n",
    "        for i in range(l):\n",
    "            newIndex = (i+k)%l\n",
    "            nums[newIndex] = copy[i]\n",
    "    return nums"
   ]
  },
  {
   "cell_type": "code",
   "execution_count": 3,
   "metadata": {},
   "outputs": [
    {
     "data": {
      "text/plain": [
       "[4, 5, 6, 0, 1, 2, 3]"
      ]
     },
     "execution_count": 3,
     "metadata": {},
     "output_type": "execute_result"
    }
   ],
   "source": [
    "list = [0,1,2,3,4,5,6]\n",
    "rotate(list,3)"
   ]
  },
  {
   "cell_type": "code",
   "execution_count": 4,
   "metadata": {},
   "outputs": [],
   "source": [
    "test = [1]\n",
    "rotate(test,2)"
   ]
  },
  {
   "cell_type": "code",
   "execution_count": 8,
   "metadata": {},
   "outputs": [
    {
     "data": {
      "text/plain": [
       "[2, 1]"
      ]
     },
     "execution_count": 8,
     "metadata": {},
     "output_type": "execute_result"
    }
   ],
   "source": [
    "demo = [1,2]\n",
    "rotate(demo,3)"
   ]
  },
  {
   "cell_type": "code",
   "execution_count": null,
   "metadata": {},
   "outputs": [],
   "source": [
    "# 给定一个数组，将数组中的元素向右移动 k 个位置，其中 k 是非负数。\n",
    "\n",
    "# 示例 1:\n",
    "\n",
    "# 输入: [1,2,3,4,5,6,7] 和 k = 3\n",
    "# 输出: [5,6,7,1,2,3,4]\n",
    "# 解释:\n",
    "# 向右旋转 1 步: [7,1,2,3,4,5,6]\n",
    "# 向右旋转 2 步: [6,7,1,2,3,4,5]\n",
    "# 向右旋转 3 步: [5,6,7,1,2,3,4]"
   ]
  }
 ],
 "metadata": {
  "kernelspec": {
   "display_name": "Python 3",
   "language": "python",
   "name": "python3"
  },
  "language_info": {
   "codemirror_mode": {
    "name": "ipython",
    "version": 3
   },
   "file_extension": ".py",
   "mimetype": "text/x-python",
   "name": "python",
   "nbconvert_exporter": "python",
   "pygments_lexer": "ipython3",
   "version": "3.7.0"
  }
 },
 "nbformat": 4,
 "nbformat_minor": 2
}
